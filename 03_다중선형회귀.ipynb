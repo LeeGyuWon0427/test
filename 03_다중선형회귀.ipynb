{
  "nbformat": 4,
  "nbformat_minor": 0,
  "metadata": {
    "colab": {
      "provenance": []
    },
    "kernelspec": {
      "name": "python3",
      "display_name": "Python 3"
    },
    "language_info": {
      "name": "python"
    }
  },
  "cells": [
    {
      "cell_type": "code",
      "execution_count": 1,
      "metadata": {
        "colab": {
          "base_uri": "https://localhost:8080/"
        },
        "id": "N1K6T1H0JCGr",
        "outputId": "f7377857-7737-4cbb-9b14-4ec792a1437a"
      },
      "outputs": [
        {
          "output_type": "stream",
          "name": "stdout",
          "text": [
            "   carat      cut color clarity  depth  table  price     x     y     z\n",
            "0   0.23    Ideal     E     SI2   61.5   55.0    326  3.95  3.98  2.43\n",
            "1   0.21  Premium     E     SI1   59.8   61.0    326  3.89  3.84  2.31\n",
            "2   0.23     Good     E     VS1   56.9   65.0    327  4.05  4.07  2.31\n",
            "3   0.29  Premium     I     VS2   62.4   58.0    334  4.20  4.23  2.63\n",
            "4   0.31     Good     J     SI2   63.3   58.0    335  4.34  4.35  2.75\n"
          ]
        }
      ],
      "source": [
        "import seaborn as sns\n",
        "diamonds = sns.load_dataset(\"diamonds\")\n",
        "print(diamonds.head())"
      ]
    },
    {
      "cell_type": "code",
      "source": [
        "x1 = diamonds['carat'].head(5).tolist()\n",
        "x2 = diamonds['depth'].head(5).tolist()\n",
        "Y = diamonds[\"price\"].head(5).tolist()\n",
        "print(x1,x2, Y)"
      ],
      "metadata": {
        "colab": {
          "base_uri": "https://localhost:8080/"
        },
        "id": "v67UxrfYJQQE",
        "outputId": "4043e1c3-f9e6-4dc2-8027-919b7880ed3c"
      },
      "execution_count": 3,
      "outputs": [
        {
          "output_type": "stream",
          "name": "stdout",
          "text": [
            "[0.23, 0.21, 0.23, 0.29, 0.31] [61.5, 59.8, 56.9, 62.4, 63.3] [326, 326, 327, 334, 335]\n"
          ]
        }
      ]
    },
    {
      "cell_type": "code",
      "source": [
        "import tensorflow as tf\n",
        "w1 = tf.Variable(0. )\n",
        "w2 = tf.Variable(0. )\n",
        "b = tf.Variable(0. )"
      ],
      "metadata": {
        "id": "IkXZjNrLJjgE"
      },
      "execution_count": 4,
      "outputs": []
    },
    {
      "cell_type": "code",
      "source": [
        "learning_rate = 0.000001\n",
        "for i in range(1000+1):\n",
        "  with tf.GradientTape() as tape:\n",
        "    hypothesis = w1 * x1 + w2 * x2 + b\n",
        "    cost = tf.reduce_mean(tf.square(hypothesis - Y))\n",
        "  w1_grad, w2_grad, b_grad = tape.gradient(cost, [w1,w2,b])\n",
        "  w1.assign_sub(learning_rate * w1_grad)\n",
        "  w2.assign_sub(learning_rate * w2_grad)\n",
        "  b.assign_sub(learning_rate * b_grad)\n",
        "\n",
        "  if i%100 == 0:\n",
        "    print(\"{:5} | {:12.4f}\".format(i, cost.numpy()))"
      ],
      "metadata": {
        "colab": {
          "base_uri": "https://localhost:8080/"
        },
        "id": "JH8P7XkfJ3V_",
        "outputId": "ee026471-ce63-4966-e11d-95494348a45a"
      },
      "execution_count": 7,
      "outputs": [
        {
          "output_type": "stream",
          "name": "stdout",
          "text": [
            "    0 |  107051.5781\n",
            "  100 |   24306.7715\n",
            "  200 |    5577.1475\n",
            "  300 |    1337.6046\n",
            "  400 |     377.9635\n",
            "  500 |     160.7461\n",
            "  600 |     111.5761\n",
            "  700 |     100.4468\n",
            "  800 |      97.9278\n",
            "  900 |      97.3576\n",
            " 1000 |      97.2286\n"
          ]
        }
      ]
    },
    {
      "cell_type": "code",
      "source": [
        "import numpy as np\n",
        "data = np.array([[x1[i], x2[i], Y[i]] for i in range(len(x1))], dtype=np.float32)\n",
        "data"
      ],
      "metadata": {
        "colab": {
          "base_uri": "https://localhost:8080/"
        },
        "id": "aVVBU7gtLMBS",
        "outputId": "704b0704-1c13-48c3-80c2-fadb2696ce57"
      },
      "execution_count": 8,
      "outputs": [
        {
          "output_type": "execute_result",
          "data": {
            "text/plain": [
              "array([[2.30e-01, 6.15e+01, 3.26e+02],\n",
              "       [2.10e-01, 5.98e+01, 3.26e+02],\n",
              "       [2.30e-01, 5.69e+01, 3.27e+02],\n",
              "       [2.90e-01, 6.24e+01, 3.34e+02],\n",
              "       [3.10e-01, 6.33e+01, 3.35e+02]], dtype=float32)"
            ]
          },
          "metadata": {},
          "execution_count": 8
        }
      ]
    },
    {
      "cell_type": "code",
      "source": [
        "X=data[:,:-1]\n",
        "y=data[:,[-1]]\n",
        "\n",
        "W = tf.Variable(tf.random.normal((2, 1)))\n",
        "b = tf.Variable(tf.random.normal((1,)))\n",
        "\n",
        "learning_rate = 0.000001\n",
        "for i in range(1000+1):\n",
        "    with tf.GradientTape() as tape:\n",
        "        hypothesis = tf.matmul(X, W) + b\n",
        "        cost = tf.reduce_mean((tf.square(hypothesis - y)))\n",
        "    W_grad, b_grad = tape.gradient(cost, [W, b])\n",
        "\n",
        "    W.assign_sub(learning_rate * W_grad)\n",
        "    b.assign_sub(learning_rate * b_grad)\n",
        "\n",
        "    if"
      ],
      "metadata": {
        "id": "Jdm5fIevLrg8"
      },
      "execution_count": 9,
      "outputs": []
    }
  ]
}